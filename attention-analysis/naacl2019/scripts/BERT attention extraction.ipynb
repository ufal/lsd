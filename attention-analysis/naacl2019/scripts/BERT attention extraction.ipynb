{
 "cells": [
  {
   "cell_type": "code",
   "execution_count": 102,
   "metadata": {},
   "outputs": [],
   "source": [
    "import json\n",
    "import pickle\n",
    "import numpy as np\n",
    "import scipy\n",
    "from scipy.special import softmax"
   ]
  },
  {
   "cell_type": "markdown",
   "metadata": {},
   "source": [
    "## Prepare json file for attention extraction"
   ]
  },
  {
   "cell_type": "code",
   "execution_count": 3,
   "metadata": {},
   "outputs": [],
   "source": [
    "sentences_file = '../data/europarl/intersect.en.tok.test'\n",
    "json_file = '../BertAA/entest_4bert.json'"
   ]
  },
  {
   "cell_type": "code",
   "execution_count": 4,
   "metadata": {},
   "outputs": [],
   "source": [
    "in_data = []\n",
    "with open(sentences_file, 'r') as infile:\n",
    "    for line in infile:\n",
    "        in_data.append({'text': line.strip()})\n",
    "        \n",
    "with open(json_file, 'w') as outfile:\n",
    "    json.dump(in_data, outfile)"
   ]
  },
  {
   "cell_type": "code",
   "execution_count": 5,
   "metadata": {},
   "outputs": [
    {
     "data": {
      "text/plain": [
       "1000"
      ]
     },
     "execution_count": 5,
     "metadata": {},
     "output_type": "execute_result"
    }
   ],
   "source": [
    "len(in_data)"
   ]
  },
  {
   "cell_type": "markdown",
   "metadata": {},
   "source": [
    "## Load attention matrices"
   ]
  },
  {
   "cell_type": "code",
   "execution_count": 83,
   "metadata": {},
   "outputs": [],
   "source": [
    "attention_pickle = '../BertAA/entest_4bert_attn.pkl'\n",
    "def load_pickle(fname):\n",
    "    with open(fname, \"rb\") as f:\n",
    "        return pickle.load(f)  # add, encoding=\"latin1\") if using python3 and downloaded data\n",
    "\n",
    "# BERT-base Attention Maps extracted from Wikipedia\n",
    "# Data is a list of dicts of the followig form:\n",
    "# {\n",
    "#    \"tokens\": list of strings\n",
    "#    \"attns\": [n_layers, n_heads, n_tokens, n_tokens] \n",
    "#             tensor of attention weights\n",
    "# }\n",
    "data = load_pickle(attention_pickle)\n"
   ]
  },
  {
   "cell_type": "markdown",
   "metadata": {},
   "source": [
    "## Processing of attention matrices\n",
    "* The row and column coresponding to `[CLS]` token is deleted \n",
    "* The row and column coresponding to `[SEP]` is kept, so the format corresponds to attention metrices obtained in the previous experiments.\n",
    "* Tokenization is changed to `BPE`. `[CLS]` and `[SEP]` tokens are deleted.\n",
    "* Tokens are saved in a text file. One line per sentence."
   ]
  },
  {
   "cell_type": "code",
   "execution_count": 115,
   "metadata": {},
   "outputs": [],
   "source": [
    "output_attention = '../BertAA/BertAA-no-softmax/attentions.npz'\n",
    "output_tokens = '../BertAA/BertAA-no-softmax/source.txt'"
   ]
  },
  {
   "cell_type": "code",
   "execution_count": 116,
   "metadata": {},
   "outputs": [],
   "source": [
    "def to_bpe(tokens):\n",
    "    txt_line = (' ').join(tokens)\n",
    "    txt_line = txt_line.replace(' ##', '@@ ')\n",
    "    return txt_line.split(' ')"
   ]
  },
  {
   "cell_type": "code",
   "execution_count": 117,
   "metadata": {},
   "outputs": [],
   "source": [
    "attentions = []\n",
    "sentences = []\n",
    "for exmpl in data:\n",
    "    tokens = to_bpe(exmpl['tokens'])\n",
    "    sentence = (' ').join(tokens[1:-1])\n",
    "    sentences.append(sentence)\n",
    "    attentions.append(exmpl['attns'][:,:,1:,1:])\n",
    "    "
   ]
  },
  {
   "cell_type": "code",
   "execution_count": 118,
   "metadata": {},
   "outputs": [],
   "source": [
    "with open(output_attention, 'wb') as attn_file:\n",
    "    np.savez(attn_file, *attentions)\n",
    "    \n",
    "with open(output_tokens, 'w') as src_file:\n",
    "    src_file.write('\\n'.join(sentences))\n",
    "        "
   ]
  },
  {
   "cell_type": "code",
   "execution_count": 119,
   "metadata": {},
   "outputs": [
    {
     "data": {
      "text/plain": [
       "'( it ) mr president , i take the floor to express my satisfaction at the widespread support the assembly has given to the motion that we have put forward with mr pan@@ nell@@ a and mr on@@ ys@@ kiewicz , the motion does something different from what we heard from mrs ferrer@@ owa@@ ld@@ ner today ; that is , it takes sides : the side of the search for truth , for the real reasons why talks broke down between the chinese and the tibetan@@ s , rather than looking at this from a neutral stand@@ point , as the commission and the council unfortunately continue to do , as if it were enough for us to simply hope for dialogue between two parties .'"
      ]
     },
     "execution_count": 119,
     "metadata": {},
     "output_type": "execute_result"
    }
   ],
   "source": [
    "sentences[214]"
   ]
  }
 ],
 "metadata": {
  "kernelspec": {
   "display_name": "Python 3",
   "language": "python",
   "name": "python3"
  },
  "language_info": {
   "codemirror_mode": {
    "name": "ipython",
    "version": 3
   },
   "file_extension": ".py",
   "mimetype": "text/x-python",
   "name": "python",
   "nbconvert_exporter": "python",
   "pygments_lexer": "ipython3",
   "version": "3.6.8"
  }
 },
 "nbformat": 4,
 "nbformat_minor": 2
}
