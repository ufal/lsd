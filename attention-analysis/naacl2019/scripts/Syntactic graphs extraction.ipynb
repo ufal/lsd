{
 "cells": [
  {
   "cell_type": "code",
   "execution_count": 1,
   "metadata": {},
   "outputs": [],
   "source": [
    "import networkx as nx\n",
    "from networkx.algorithms import tree\n",
    "from tools import dependency, sentence_attentions\n",
    "from tools.dependency_converter import DependencyConverter\n",
    "from sklearn.metrics import confusion_matrix\n",
    "\n",
    "import matplotlib\n",
    "matplotlib.use('Agg')\n",
    "import matplotlib.pyplot as plt\n",
    "\n",
    "import numpy as np\n",
    "\n",
    "from itertools import cycle, islice\n",
    "\n",
    "from tqdm import tqdm\n",
    "\n",
    "from collections import defaultdict, namedtuple\n",
    "import pandas as pd\n",
    "%matplotlib inline"
   ]
  },
  {
   "cell_type": "code",
   "execution_count": 2,
   "metadata": {},
   "outputs": [],
   "source": [
    "dev = True\n",
    "if dev:\n",
    "    attention_file = '../BertAA/BertAA-dev/attentions.npz'\n",
    "    token_file = '../BertAA/BertAA-dev/source.txt'\n",
    "    conllu_file_name = '../graph-extraction/endev-conv.conllu'\n",
    "    no_softmax = False\n",
    "else:\n",
    "    attention_file = '../BertAA/attentions.npz'\n",
    "    token_file = '../BertAA/source.txt'\n",
    "    conllu_file_name = '../data/entest-conv.conllu'\n",
    "    no_softmax = True\n",
    "    \n",
    "conllu_train_file = '../graph-extraction/entrain-conv.conllu'\n",
    "    "
   ]
  },
  {
   "cell_type": "code",
   "execution_count": 3,
   "metadata": {},
   "outputs": [],
   "source": [
    "maxlen = 1000\n",
    "\n",
    "fontsize=8\n",
    "\n",
    "#this is necessary in this case\n",
    "eos =True\n",
    "\n",
    "dependency.define_labels(True)\n",
    "\n",
    "dependency_rels = dependency.read_conllu_labeled(conllu_file_name)\n",
    "\n",
    "\n",
    "dependency_rels = [DependencyConverter(sent_rel).convert(return_root=True) for sent_rel in dependency_rels]\n",
    "\n",
    "with open(token_file) as tokens_file:\n",
    "    tokens_loaded = [l.split() for l in tokens_file]\n",
    "    \n",
    "attentions_loaded = np.load(attention_file)\n",
    "sentences_count = 1000\n",
    "layers_count = attentions_loaded['arr_0'].shape[0]\n",
    "heads_count = attentions_loaded['arr_0'].shape[1]\n",
    "\n",
    "tokens_grouped, common_tokens = dependency.group_wordpieces(tokens_loaded, conllu_file_name)"
   ]
  },
  {
   "cell_type": "markdown",
   "metadata": {},
   "source": [
    "## Multigraphs"
   ]
  },
  {
   "cell_type": "code",
   "execution_count": 5,
   "metadata": {},
   "outputs": [],
   "source": [
    "all_pos = set()\n",
    "for sent_rels in dependency_rels:\n",
    "    for dep, head, label, pos in sent_rels:\n",
    "        all_pos.add(pos)"
   ]
  },
  {
   "cell_type": "code",
   "execution_count": 6,
   "metadata": {},
   "outputs": [],
   "source": [
    "def pos_dict():\n",
    "    all_pos = {'ADJ', 'ADP', 'ADV', 'AUX', 'CCONJ', 'DET', 'INTJ', 'NOUN','NUM',\n",
    "    'PART','PRON','PROPN','PUNCT','SCONJ','SYM','VERB','X'}\n",
    "    \n",
    "    res_dict = dict()\n",
    "    for pos1 in all_pos:\n",
    "        for pos2 in all_pos:\n",
    "            res_dict[(pos1,pos2)] = 0\n",
    "    return res_dict"
   ]
  },
  {
   "cell_type": "code",
   "execution_count": 7,
   "metadata": {},
   "outputs": [],
   "source": [
    "pos_frame = dependency.conllu2freq_frame(conllu_train_file )\n",
    "RelData= namedtuple('RelData','layers heads transpose d2p')"
   ]
  },
  {
   "cell_type": "code",
   "execution_count": 8,
   "metadata": {},
   "outputs": [],
   "source": [
    "\n",
    "\n",
    "relation_rules = {#'nsubj': RelData([4,7,8], [10, 11, 10], False, False),\n",
    "                  'subject-d2p': RelData([5, 7, 7, 7, 1, 0],[9, 2, 1, 8, 6, 8], False, True),\n",
    "                  'object-d2p': RelData([7, 6, 3, 6, 4, 6, 5],[ 9,  9, 11, 10,  6,  3,  3], False, True),\n",
    "                  'adj-modifier-d2p': RelData([3, 7, 6, 5, 8, 0, 2], [ 9, 10,  5,  7,  5,  8, 11], True, True),\n",
    "                  'auxiliary-d2p': RelData([3, 7, 8, 5, 4, 7, 0],[ 9,  6,  5,  0,  5, 10,  8], True,True),\n",
    "                  'determiner-d2p': RelData([7, 3, 4, 8], [10,  9,  5, 10], True, True)#,\n",
    "                  #'all': RelData([3, 7, 6, 8, 4, 3, 5, 0, 0], [ 9, 10,  5,  5,  5, 10,  0,  8, 11], True, True )\n",
    "                 }\n",
    "\n",
    "\n"
   ]
  },
  {
   "cell_type": "code",
   "execution_count": 9,
   "metadata": {},
   "outputs": [],
   "source": [
    "relation_rules = {'subject-d2p': RelData([7, 6, 5, 5, 1, 7, 5, 7, 4],[ 2,  6,  9,  0,  6,  1, 11,  8, 11], False, True),\n",
    "                  'object-d2p': RelData([6, 3, 6],[ 9, 11, 10], False, True),\n",
    "                  'adj-modifier-d2p': RelData([3, 7, 4, 5],[9, 2, 5, 0], True, True),\n",
    "                  'auxiliary-d2p': RelData([7, 3, 5, 4, 1, 1],[ 2,  9,  9, 11,  6,  1], True,True),\n",
    "                  'determiner-d2p': RelData([7, 3, 4],[10,  9,  5], True, True),\n",
    "                  'all-d2p': RelData([6, 7, 3, 8, 7, 6, 1, 9, 5],[ 6,  2,  9,  5,  6,  5,  6,  3, 11], True, True )\n",
    "                 }\n"
   ]
  },
  {
   "cell_type": "code",
   "execution_count": 10,
   "metadata": {},
   "outputs": [],
   "source": [
    "relation_rules  = {'adj-clause-p2d': RelData([3, 4, 7, 6, 5, 7], [3, 5, 6, 6, 9, 10],False, False),\n",
    "        'adj-modifier-p2d': RelData([7, 0, 5, 6], [4, 3, 10, 4],False, False),\n",
    "        'adv-clause-p2d': RelData([5, 3, 4, 5, 1], [8, 3, 8, 11, 5],False, False),\n",
    "        'adv-modifier-p2d': RelData([7, 5, 6, 4, 9, 4], [7, 1, 9, 7, 3, 10],False, False),\n",
    "        'all-p2d': RelData([1, 3, 6, 7, 0, 4, 7, 9], [4, 5, 11, 4, 2, 7, 7, 3],False, False),\n",
    "        'apposition-p2d': RelData([3], [3],False, False),\n",
    "        'auxiliary-p2d': RelData([7, 6, 1, 8, 1, 9, 8], [3, 2, 10, 11, 6, 4, 4],False, False),\n",
    "        'clausal subject-p2d': RelData([7, 7], [1, 10],False, False),\n",
    "        'clausal-p2d': RelData([5, 7, 7, 7, 4, 3, 5, 0, 6, 1], [8, 10, 1, 6, 5, 3, 11, 8, 6, 5],False, False),\n",
    "        'compound-p2d': RelData([3, 1, 0], [5, 4, 3],False, False),\n",
    "        'conjunct-p2d': RelData([5, 9, 7, 3, 10, 4, 11], [5, 6, 8, 3, 5, 8, 8],False, False),\n",
    "        'determiner-p2d': RelData([0, 6, 2, 6, 1], [3, 9, 1, 3, 4],False, False),\n",
    "        'i object-p2d': RelData([3], [9],False, False),\n",
    "        'noun-modifier-p2d': RelData([4, 5, 3, 3, 5], [5, 0, 3, 9, 9],False, False),\n",
    "        'num-modifier-p2d': RelData([7, 4, 0, 6, 5], [11, 7, 2, 9, 9],False, False),\n",
    "        'object-p2d': RelData([3, 5, 5, 7], [9, 0, 9, 10],False, False),\n",
    "        'other-p2d': RelData([8, 6, 9, 5, 1, 7, 0, 3, 1], [6, 9, 3, 6, 4, 7, 2, 5, 10],False, False),\n",
    "        'punctuation-p2d': RelData([5, 6], [10, 11],False, False),\n",
    "        'subject-p2d': RelData([7, 4, 6], [4, 10, 4],False, False)}\n"
   ]
  },
  {
   "cell_type": "code",
   "execution_count": 11,
   "metadata": {},
   "outputs": [],
   "source": [
    "relation_rules  = {'adj-clause-d2p': RelData([6, 6, 3, 0, 7], [9, 2, 11, 3, 9],False, True),\n",
    "    'adj-modifier-d2p': RelData([3, 7, 4, 5], [9, 2, 5, 0],False, True),\n",
    "    'adv-clause-d2p': RelData([6, 5, 4, 1, 8, 4, 3], [2, 3, 10, 10, 4, 9, 11],False, True),\n",
    "    'adv-modifier-d2p': RelData([5, 6, 7, 3, 5, 4, 10, 6], [9, 6, 6, 9, 0, 5, 10, 3],False, True),\n",
    "    'all-d2p': RelData([6, 7, 3, 8, 7, 6, 1, 9, 5], [6, 2, 9, 5, 6, 5, 6, 3, 11],False, True),\n",
    "    'apposition-d2p': RelData([4, 3], [10, 11],False, True),\n",
    "    'auxiliary-d2p': RelData([7, 3, 5, 4, 1, 1], [2, 9, 9, 11, 6, 1],False, True),\n",
    "    'clausal subject-d2p': RelData([5, 5], [2, 3],False, True),\n",
    "    'clausal-d2p': RelData([6, 5, 7, 7], [2, 3, 0, 9],False, True),\n",
    "    'compound-d2p': RelData([3, 7], [9, 2],False, True),\n",
    "    'conjunct-d2p': RelData([6, 9, 8, 4, 3, 11], [0, 6, 4, 10, 11, 9],False, True),\n",
    "    'determiner-d2p': RelData([7, 3, 4], [10, 9, 5],False, True),\n",
    "    'i object-d2p': RelData([5], [1],False, True),\n",
    "    'noun-modifier-d2p': RelData([6, 3, 7, 6], [9, 11, 9, 2],False, True),\n",
    "    'num-modifier-d2p': RelData([0, 9], [10, 3],False, True),\n",
    "    'object-d2p': RelData([6, 3, 6], [9, 11, 10],False, True),\n",
    "    'other-d2p': RelData([5, 4, 8, 6, 3, 5, 7, 7, 7, 5, 1, 1], [0, 5, 5, 6, 9, 7, 1, 2, 6, 9, 6, 1],False, True),\n",
    "    'punctuation-d2p': RelData([7, 8, 8, 5, 7, 8], [1, 5, 0, 7, 6, 4],False, True),\n",
    "    'subject-d2p': RelData([7, 6, 5, 5, 1, 7, 5, 7, 4], [2, 6, 9, 0, 6, 1, 11, 8, 11],False, True)}\n"
   ]
  },
  {
   "cell_type": "code",
   "execution_count": 12,
   "metadata": {},
   "outputs": [],
   "source": [
    "relation_rules  = {'adj-clause-p2d': RelData([3, 4, 7, 6, 5, 7], [3, 5, 6, 6, 9, 10],False, False),\n",
    "    'adj-modifier-d2p': RelData([3, 7, 4, 5], [9, 2, 5, 0],False, True),\n",
    "    'adv-clause-p2d': RelData([5, 3, 4, 5, 1], [8, 3, 8, 11, 5],False, False),\n",
    "    'adv-modifier-p2d': RelData([7, 5, 6, 4, 9, 4], [7, 1, 9, 7, 3, 10],False, True),\n",
    "    'apposition-p2d': RelData([3], [3],False, False),\n",
    "    'auxiliary-d2p': RelData([7, 3, 5, 4, 1, 1], [2, 9, 9, 11, 6, 1],False, True),\n",
    "    'clausal-p2d': RelData([5, 7, 7, 7, 4, 3, 5, 0, 6, 1], [8, 10, 1, 6, 5, 3, 11, 8, 6, 5],False, False),\n",
    "    'clausal-d2p': RelData([6, 5, 7, 7], [2, 3, 0, 9],False, True),\n",
    "    'compound-d2p': RelData([3, 7], [9, 2],False, True),\n",
    "    'conjunct-d2p': RelData([6, 9, 8, 4, 3, 11], [0, 6, 4, 10, 11, 9],False, True),\n",
    "    'determiner-d2p': RelData([7, 3, 4], [10, 9, 5],False, True),\n",
    "    'i object-d2p': RelData([5], [1],False, True),\n",
    "    'noun-modifier-d2p': RelData([6, 3, 7, 6], [9, 11, 9, 2],False, True),\n",
    "    'num-modifier-p2d': RelData([7, 4, 0, 6, 5], [11, 7, 2, 9, 9],False, False),\n",
    "    'object-d2p': RelData([6, 3, 6], [9, 11, 10],False, True),\n",
    "    'other-d2p': RelData([5, 4, 8, 6, 3, 5, 7, 7, 7, 5, 1, 1], [0, 5, 5, 6, 9, 7, 1, 2, 6, 9, 6, 1],False, True),\n",
    "    'punctuation-d2p': RelData([7, 8, 8, 5, 7, 8], [1, 5, 0, 7, 6, 4],False, True),\n",
    "    'subject-p2d': RelData([7, 4, 6], [4, 10, 4],False, False)}\n"
   ]
  },
  {
   "cell_type": "code",
   "execution_count": 13,
   "metadata": {},
   "outputs": [],
   "source": [
    "# def multigraph_trees(sentence, draw=False):\n",
    "#     sentences = [sentence]\n",
    "#     attention_gen = sentence_attentions.generate_matrices(attentions_loaded, tokens_grouped, eos, no_softmax, maxlen,sentences)\n",
    "#     #attention_gen = enumerate(attention_gen)\n",
    "\n",
    "#     viss = {sentence_idx: att_mts for att_mts, sentence_idx in tqdm(attention_gen)}\n",
    "    \n",
    "\n",
    "#     sentence_index = sentence\n",
    "#     matrices = viss[sentence_index]\n",
    "\n",
    "#     words_list = common_tokens[sentence_index]\n",
    "#     words = ' '.join(words_list)\n",
    "    \n",
    "#     print(words)\n",
    "    \n",
    "#     edge_labeled = {(d, h) : l for d, h, l, p in dependency_rels[sentence_index] if l != 'root'}\n",
    "#     token2pos = {d : p for d, h, l, p in dependency_rels[sentence_index]}\n",
    "#     DG=nx.DiGraph()\n",
    "#     DG.add_edges_from(edge_labeled.keys())\n",
    "    \n",
    "#     labels = {}\n",
    "#     for node in DG.nodes():\n",
    "#         labels[node] = words_list[node]\n",
    "#     posG = nx.spring_layout(DG)\n",
    "\n",
    "\n",
    "#     MultiAttention = nx.MultiGraph()\n",
    "#     MultiAttention.add_nodes_from(DG.nodes())\n",
    "\n",
    "#     for relation, rules in relation_rules.items():\n",
    "#         aggr_matrix = np.mean(np.array(matrices)[rules.layers,rules.heads,:,:], axis=0)\n",
    "#         for i in range(len(aggr_matrix)):\n",
    "#             for j in range(len(aggr_matrix)):\n",
    "#                 if i!=j:\n",
    "#                     if rules.d2p:\n",
    "# #                         if pos_frame[relation][(token2pos[i],token2pos[j])] <= 0.01:\n",
    "# #                             aggr_matrix[i,j] = 0\n",
    "#                         aggr_matrix[i,j] *= pos_frame[relation][(token2pos[i],token2pos[j])]\n",
    "\n",
    "#                     else:\n",
    "# #                         if pos_frame[relation][(token2pos[j],token2pos[i])] <= 0.01:\n",
    "# #                             aggr_matrix[i,j] = 0\n",
    "#                         aggr_matrix[i,j] *= pos_frame[relation][(token2pos[j],token2pos[i])]\n",
    "\n",
    "#         if rules.transpose:\n",
    "#             aggr_matrix = aggr_matrix.transpose()\n",
    "#         AG = nx.from_numpy_matrix(aggr_matrix, create_using=nx.Graph)\n",
    "#         # incldue statistical info about pos:\n",
    "\n",
    "#         MultiAttention.add_edges_from(AG.edges(data=True), label=relation)\n",
    "\n",
    "#     espanning = list(tree.maximum_spanning_edges(MultiAttention,data=True))\n",
    "#     print(espanning)\n",
    "#     weights = [d['weight'] *10 for _,_,_,d in espanning]\n",
    "#     attention_labels  = {(u,v) : d['label'] for u,v,_,d in espanning}\n",
    "#     espanning = [(u, v) for (u, v,l, d) in espanning]\n",
    "#     posA = nx.spring_layout(MultiAttention)\n",
    "\n",
    "    \n",
    "\n",
    "\n",
    "\n",
    "#     fig, (ax1, ax2) = plt.subplots(1,2,figsize=(20,10))\n",
    "\n",
    "\n",
    "#     nx.draw_networkx_nodes(DG, posG, ax=ax1)\n",
    "#     nx.draw_networkx_edges(DG, posG, ax=ax1)\n",
    "#     nx.draw_networkx_labels(DG, posG,labels, font_size=12, ax=ax1)\n",
    "#     nx.draw_networkx_edge_labels(DG,posG,edge_labels= edge_labeled, font_size=8,font_color='red', ax=ax1)\n",
    "\n",
    "#     nx.draw_networkx_nodes(MultiAttention, posA, ax=ax2)\n",
    "#     nx.draw_networkx_edges(MultiAttention, posA,edgelist=espanning,  alpha=0.5,width=weights, ax=ax2)\n",
    "#     nx.draw_networkx_edge_labels(MultiAttention,posA,edge_labels=attention_labels,\n",
    "#                                  font_color='green',font_size=8, ax=ax2)\n",
    "#     nx.draw_networkx_labels(MultiAttention, posA,labels, font_size=12, ax=ax2)\n",
    "\n",
    "\n",
    "#     plt.show()\n",
    "    \n",
    "#     alabelm = np.full((len(aggr_matrix), len(aggr_matrix)), 'no edge')\n",
    "\n",
    "#     dlabelm = np.full((len(aggr_matrix), len(aggr_matrix)), 'no edge')\n",
    "    \n",
    "#     for aedge, ael in attention_labels.items():\n",
    "#         if relation_rules[ael].transpose:\n",
    "#             alabelm[aedge[1], aedge[0]] = ael\n",
    "            \n",
    "#         else:\n",
    "#             alabelm[aedge[0], aedge[1]] = ael\n",
    "    \n",
    "#     for dedge, deel in edge_labeled.items():\n",
    "\n",
    "#         deel = dependency.transform_label(deel) + '-d2p'\n",
    "\n",
    "#         if deel in relation_rules:\n",
    "#             dlabelm[dedge[0], dedge[1]] = deel\n",
    "#         else:\n",
    "#             dlabelm[dedge[0], dedge[1]] = 'other'\n",
    "            \n",
    "#     return alabelm.ravel(), dlabelm.ravel()\n",
    "    "
   ]
  },
  {
   "cell_type": "markdown",
   "metadata": {},
   "source": [
    "## Multigraph arborescene"
   ]
  },
  {
   "cell_type": "code",
   "execution_count": 14,
   "metadata": {},
   "outputs": [],
   "source": [
    "def multigraph_aborescene(sentence, visualize=False):\n",
    "    sentences = [sentence]\n",
    "    attention_gen = sentence_attentions.generate_matrices(attentions_loaded,\n",
    "                                                          tokens_grouped, eos,\n",
    "                                                          no_softmax, maxlen,sentences)\n",
    "    #attention_gen = enumerate(attention_gen)\n",
    "\n",
    "    viss = {sentence_idx: att_mts for att_mts, sentence_idx in attention_gen}\n",
    "    \n",
    "\n",
    "    sentence_index = sentence\n",
    "    matrices = viss[sentence_index]\n",
    "\n",
    "    words_list = common_tokens[sentence_index]\n",
    "    words = ' '.join(words_list)\n",
    "\n",
    "    \n",
    "    edge_labeled = {(h, d) : l for d, h, l, p in dependency_rels[sentence_index] if l != 'root'}\n",
    "    root_ord = 0\n",
    "    for d, h, l, p in dependency_rels[sentence_index]:\n",
    "        if l == 'root':\n",
    "            root_ord = d\n",
    "            break\n",
    "    \n",
    "    \n",
    "    token2pos = {d : p for d, h, l, p in dependency_rels[sentence_index]}\n",
    "    DG=nx.DiGraph()\n",
    "    DG.add_edges_from(edge_labeled.keys())\n",
    "    \n",
    "    labels = {}\n",
    "    for node in DG.nodes():\n",
    "        labels[node] = words_list[node]\n",
    "    posG = nx.spring_layout(DG)\n",
    "\n",
    "\n",
    "    MultiAttention = nx.MultiDiGraph()\n",
    "    MultiAttention.add_nodes_from(DG.nodes())\n",
    "\n",
    "    multi_edge2label = dict()\n",
    "    for relation, rules in relation_rules.items():\n",
    "        aggr_matrix = np.mean(np.array(matrices)[rules.layers,rules.heads,:,:], axis=0)\n",
    "        \n",
    "        if rules.d2p == True:\n",
    "            aggr_matrix = aggr_matrix.transpose()\n",
    "        aggr_matrix[:,root_ord] = 0\n",
    "        for i in range(len(aggr_matrix)):\n",
    "            for j in range(len(aggr_matrix)):\n",
    "                if i!=j:\n",
    "                    aggr_matrix[i,j] *= pos_frame[relation][(token2pos[j],token2pos[i])]\n",
    "#                     if pos_frame[relation][(token2pos[j],token2pos[i])] <= 0.001:\n",
    "#                         aggr_matrix[i,j] = 0\n",
    "                    \n",
    "#                     if rules.d2p:\n",
    "                        \n",
    "# #                         if pos_frame[relation][(token2pos[i],token2pos[j])] <= 0.01:\n",
    "# #                             aggr_matrix[i,j] = 0\n",
    "#                         aggr_matrix[i,j] *= pos_frame[relation][(token2pos[i],token2pos[j])]\n",
    "\n",
    "#                     else:\n",
    "# #                         if pos_frame[relation][(token2pos[j],token2pos[i])] <= 0.01:\n",
    "# #                             aggr_matrix[i,j] = 0\n",
    "#                         aggr_matrix[i,j] *= pos_frame[relation][(token2pos[j],token2pos[i])]\n",
    "\n",
    "        AG = nx.from_numpy_matrix(aggr_matrix, create_using=nx.DiGraph)\n",
    "        \n",
    "        for u, v, d in AG.edges(data=True):\n",
    "            multi_edge2label[(u,v,d['weight'])] = relation\n",
    "        # incldue statistical info about pos:\n",
    "\n",
    "        MultiAttention.add_edges_from(AG.edges(data=True), label=relation)\n",
    "        \n",
    "\n",
    "    AttentionAborescene = tree.branchings.maximum_spanning_arborescence(MultiAttention)\n",
    "    espanning = AttentionAborescene.edges(data=True)\n",
    "    weights = [max(d['weight'] *20, 1) for _,_,d in espanning]\n",
    "    attention_labels  = {(u,v) : multi_edge2label[(u,v,d['weight'])] for u, v, d in espanning}\n",
    "    espanning = [(u, v) for (u, v, d) in espanning]\n",
    "    posA = nx.spring_layout(AttentionAborescene)\n",
    "\n",
    "    if visualize:\n",
    "            \n",
    "        print(words)\n",
    "        print(list(AttentionAborescene.edges(data=True)))\n",
    "        fig, (ax1, ax2) = plt.subplots(1,2,figsize=(20,10))\n",
    "\n",
    "\n",
    "        nx.draw_networkx_nodes(DG, posG, ax=ax1)\n",
    "        nx.draw_networkx_edges(DG, posG, ax=ax1)\n",
    "        nx.draw_networkx_labels(DG, posG,labels, font_size=12, ax=ax1)\n",
    "        nx.draw_networkx_edge_labels(DG,posG,edge_labels= edge_labeled, font_size=8,font_color='red', ax=ax1)\n",
    "\n",
    "        nx.draw_networkx_nodes(MultiAttention, posA, ax=ax2)\n",
    "        nx.draw_networkx_edges(MultiAttention, posA,edgelist=espanning,  alpha=0.5,width=weights, ax=ax2)\n",
    "        nx.draw_networkx_edge_labels(MultiAttention,posA,edge_labels=attention_labels,\n",
    "                                     font_color='green',font_size=8, ax=ax2)\n",
    "        nx.draw_networkx_labels(MultiAttention, posA,labels, font_size=12, ax=ax2)\n",
    "\n",
    "\n",
    "        plt.show()\n",
    "    \n",
    "    alabelm = np.full((len(aggr_matrix), len(aggr_matrix)), 'no edge', dtype='U24')\n",
    "    alabelm2 = np.full((len(aggr_matrix), len(aggr_matrix)), 'no edge', dtype='U24')\n",
    "    dlabelm = np.full((len(aggr_matrix), len(aggr_matrix)), 'no edge', dtype='U24')\n",
    "    \n",
    "    for aedge, ael in attention_labels.items():\n",
    "        #if relation_rules[ael].d2p:\n",
    "        \n",
    "        alabelm[aedge[0], aedge[1]] = ael\n",
    "#         else:\n",
    "#             alabelm[aedge[1],aedge[0]] = ael\n",
    "\n",
    "        \n",
    "    for dedge, deel in edge_labeled.items():\n",
    "\n",
    "        deel = dependency.transform_label(deel)\n",
    "\n",
    "        if deel  + '-d2p' in relation_rules:\n",
    "            dlabelm[dedge[0], dedge[1]] = deel  + '-d2p'\n",
    "        elif deel + '-p2d' in relation_rules:\n",
    "            dlabelm[dedge[0], dedge[1]] = deel  + '-p2d'\n",
    "            \n",
    "        elif 'other-d2p' in relation_rules:\n",
    "            dlabelm[dedge[0], dedge[1]] = 'other-d2p'\n",
    "        elif 'other-p2d' in relation_rules:\n",
    "            dlabelm[dedge[1], dedge[0]] = 'other-p2d'\n",
    "            \n",
    "    return alabelm, dlabelm"
   ]
  },
  {
   "cell_type": "code",
   "execution_count": 15,
   "metadata": {},
   "outputs": [],
   "source": [
    "def print_cm(cm, labels, hide_zeroes=False, hide_diagonal=False, hide_threshold=None):\n",
    "    \"\"\"pretty print for confusion matrixes\"\"\"\n",
    "    labels = [x[:5] for x in labels]\n",
    "    columnwidth = max([len(x) for x in labels] + [5])  # 5 is value length\n",
    "    empty_cell = \" \" * columnwidth\n",
    "    # Print header\n",
    "    print(\"    \" + empty_cell, end=\" \")\n",
    "    for label in labels:\n",
    "        print(\"%{0}s\".format(columnwidth) % label, end=\" \")\n",
    "    print()\n",
    "    # Print rows\n",
    "    for i, label1 in enumerate(labels):\n",
    "        print(\"    %{0}s\".format(columnwidth) % label1, end=\" \")\n",
    "        for j in range(len(labels)):\n",
    "            cell = \"%{0}.1f\".format(columnwidth) % cm[i, j]\n",
    "            if hide_zeroes:\n",
    "                cell = cell if float(cm[i, j]) != 0 else empty_cell\n",
    "            if hide_diagonal:\n",
    "                cell = cell if i != j else empty_cell\n",
    "            if hide_threshold:\n",
    "                cell = cell if cm[i, j] > hide_threshold else empty_cell\n",
    "            print(cell, end=\" \")\n",
    "        print()"
   ]
  },
  {
   "cell_type": "markdown",
   "metadata": {},
   "source": [
    "## Visualizations"
   ]
  },
  {
   "cell_type": "code",
   "execution_count": 60,
   "metadata": {},
   "outputs": [
    {
     "name": "stdout",
     "output_type": "stream",
     "text": [
      "let the media and analysts be under no illusion .\n",
      "[(2, 1, {'weight': 0.5285128823247373}), (2, 4, {'weight': 0.09735239439716994}), (0, 2, {'weight': 0.2840949791685708}), (0, 9, {'weight': 0.2686677881871624}), (0, 5, {'weight': 0.11986007837071903}), (4, 8, {'weight': 0.04021987992337892}), (4, 3, {'weight': 0.030572575219420074}), (8, 6, {'weight': 0.12102653641500433}), (8, 7, {'weight': 0.8245648845895298})]\n"
     ]
    },
    {
     "name": "stderr",
     "output_type": "stream",
     "text": [
      "/ha/home/limisiewicz/.virtualenvs/general/lib/python3.6/site-packages/networkx/drawing/nx_pylab.py:579: MatplotlibDeprecationWarning: \n",
      "The iterable function was deprecated in Matplotlib 3.1 and will be removed in 3.3. Use np.iterable instead.\n",
      "  if not cb.iterable(width):\n",
      "/ha/home/limisiewicz/.virtualenvs/general/lib/python3.6/site-packages/networkx/drawing/nx_pylab.py:676: MatplotlibDeprecationWarning: \n",
      "The iterable function was deprecated in Matplotlib 3.1 and will be removed in 3.3. Use np.iterable instead.\n",
      "  if cb.iterable(node_size):  # many node sizes\n"
     ]
    },
    {
     "data": {
      "image/png": "[encoded data removed]",
      "text/plain": [
       "<Figure size 1440x720 with 2 Axes>"
      ]
     },
     "metadata": {
      "needs_background": "light"
     },
     "output_type": "display_data"
    }
   ],
   "source": [
    "pred, gold  = multigraph_aborescene(7, visualize=True)"
   ]
  },
  {
   "cell_type": "code",
   "execution_count": 61,
   "metadata": {},
   "outputs": [
    {
     "data": {
      "text/plain": [
       "8"
      ]
     },
     "execution_count": 61,
     "metadata": {},
     "output_type": "execute_result"
    }
   ],
   "source": [
    "(np.array(list(map(int,gold.ravel()!='no edge')))*np.array(list(map(int,pred.ravel()!='no edge')))).sum()"
   ]
  },
  {
   "cell_type": "code",
   "execution_count": 62,
   "metadata": {},
   "outputs": [
    {
     "data": {
      "text/plain": [
       "9"
      ]
     },
     "execution_count": 62,
     "metadata": {},
     "output_type": "execute_result"
    }
   ],
   "source": [
    "np.array(list(map(int,gold.ravel()!='no edge'))).sum()"
   ]
  },
  {
   "cell_type": "code",
   "execution_count": 63,
   "metadata": {},
   "outputs": [
    {
     "data": {
      "text/plain": [
       "0.8888888888888888"
      ]
     },
     "execution_count": 63,
     "metadata": {},
     "output_type": "execute_result"
    }
   ],
   "source": [
    "(np.array(list(map(int,gold.ravel()!='no edge')))*np.array(list(map(int,pred.ravel()!='no edge')))).sum()/np.array(list(map(int,gold.ravel()!='no edge'))).sum()"
   ]
  },
  {
   "cell_type": "code",
   "execution_count": 64,
   "metadata": {},
   "outputs": [
    {
     "data": {
      "text/plain": [
       "array([0, 1, 1, 1, 1, 1, 1, 1, 1, 1])"
      ]
     },
     "execution_count": 64,
     "metadata": {},
     "output_type": "execute_result"
    }
   ],
   "source": [
    "np.sum(pred != 'no edge', axis=0)"
   ]
  },
  {
   "cell_type": "code",
   "execution_count": 67,
   "metadata": {},
   "outputs": [
    {
     "data": {
      "text/plain": [
       "array(['no edge', 'no edge', 'determiner-d2p', 'no edge', 'no edge',\n",
       "       'no edge', 'no edge', 'no edge', 'no edge', 'no edge'],\n",
       "      dtype='<U24')"
      ]
     },
     "execution_count": 67,
     "metadata": {},
     "output_type": "execute_result"
    }
   ],
   "source": [
    "pred.transpose()[1]"
   ]
  },
  {
   "cell_type": "code",
   "execution_count": null,
   "metadata": {},
   "outputs": [],
   "source": []
  },
  {
   "cell_type": "code",
   "execution_count": 25,
   "metadata": {},
   "outputs": [
    {
     "name": "stdout",
     "output_type": "stream",
     "text": [
      "['no edge' 'determiner-d2p' 'no edge' 'no edge' 'no edge' 'no edge'\n",
      " 'no edge' 'no edge' 'no edge' 'no edge' 'no edge' 'no edge' 'no edge'\n",
      " 'no edge' 'no edge' 'no edge' 'no edge' 'no edge' 'no edge' 'no edge'\n",
      " 'no edge']\n",
      "['no edge' 'no edge' 'no edge' 'no edge' 'no edge' 'adj-clause-p2d'\n",
      " 'no edge' 'no edge' 'no edge' 'no edge' 'no edge' 'no edge' 'no edge'\n",
      " 'no edge' 'no edge' 'no edge' 'no edge' 'no edge' 'no edge' 'no edge'\n",
      " 'no edge']\n",
      "['no edge' 'no edge' 'no edge' 'no edge' 'no edge' 'auxiliary-d2p'\n",
      " 'no edge' 'no edge' 'no edge' 'no edge' 'no edge' 'no edge' 'no edge'\n",
      " 'no edge' 'no edge' 'no edge' 'no edge' 'no edge' 'no edge' 'no edge'\n",
      " 'no edge']\n",
      "['no edge' 'no edge' 'no edge' 'no edge' 'no edge' 'other-d2p' 'no edge'\n",
      " 'no edge' 'no edge' 'no edge' 'no edge' 'no edge' 'no edge' 'no edge'\n",
      " 'no edge' 'no edge' 'no edge' 'no edge' 'no edge' 'no edge' 'no edge']\n",
      "['no edge' 'no edge' 'no edge' 'no edge' 'no edge' 'auxiliary-d2p'\n",
      " 'no edge' 'no edge' 'no edge' 'no edge' 'no edge' 'no edge' 'no edge'\n",
      " 'no edge' 'no edge' 'no edge' 'no edge' 'no edge' 'no edge' 'no edge'\n",
      " 'no edge']\n",
      "['no edge' 'no edge' 'no edge' 'no edge' 'no edge' 'no edge' 'no edge'\n",
      " 'no edge' 'no edge' 'no edge' 'no edge' 'no edge' 'no edge' 'no edge'\n",
      " 'no edge' 'no edge' 'no edge' 'no edge' 'no edge' 'no edge' 'no edge']\n",
      "['no edge' 'no edge' 'no edge' 'no edge' 'no edge' 'no edge' 'no edge'\n",
      " 'no edge' 'other-d2p' 'no edge' 'no edge' 'no edge' 'no edge' 'no edge'\n",
      " 'no edge' 'no edge' 'no edge' 'no edge' 'no edge' 'no edge' 'no edge']\n",
      "['no edge' 'no edge' 'no edge' 'no edge' 'no edge' 'no edge' 'no edge'\n",
      " 'no edge' 'determiner-d2p' 'no edge' 'no edge' 'no edge' 'no edge'\n",
      " 'no edge' 'no edge' 'no edge' 'no edge' 'no edge' 'no edge' 'no edge'\n",
      " 'no edge']\n",
      "['no edge' 'no edge' 'no edge' 'no edge' 'no edge' 'object-d2p' 'no edge'\n",
      " 'no edge' 'no edge' 'no edge' 'no edge' 'no edge' 'no edge' 'no edge'\n",
      " 'no edge' 'no edge' 'no edge' 'no edge' 'no edge' 'no edge' 'no edge']\n",
      "['no edge' 'no edge' 'no edge' 'no edge' 'no edge' 'no edge' 'no edge'\n",
      " 'no edge' 'no edge' 'no edge' 'no edge' 'other-d2p' 'no edge' 'no edge'\n",
      " 'no edge' 'no edge' 'no edge' 'no edge' 'no edge' 'no edge' 'no edge']\n",
      "['no edge' 'no edge' 'no edge' 'no edge' 'no edge' 'no edge' 'no edge'\n",
      " 'no edge' 'no edge' 'no edge' 'no edge' 'determiner-d2p' 'no edge'\n",
      " 'no edge' 'no edge' 'no edge' 'no edge' 'no edge' 'no edge' 'no edge'\n",
      " 'no edge']\n",
      "['no edge' 'no edge' 'no edge' 'no edge' 'no edge' 'no edge' 'no edge'\n",
      " 'no edge' 'noun-modifier-d2p' 'no edge' 'no edge' 'no edge' 'no edge'\n",
      " 'no edge' 'no edge' 'no edge' 'no edge' 'no edge' 'no edge' 'no edge'\n",
      " 'no edge']\n",
      "['no edge' 'no edge' 'no edge' 'no edge' 'no edge' 'no edge' 'no edge'\n",
      " 'no edge' 'no edge' 'no edge' 'no edge' 'no edge' 'no edge' 'other-d2p'\n",
      " 'no edge' 'no edge' 'no edge' 'no edge' 'no edge' 'no edge' 'no edge']\n",
      "['no edge' 'no edge' 'no edge' 'no edge' 'no edge' 'no edge' 'no edge'\n",
      " 'no edge' 'noun-modifier-d2p' 'no edge' 'no edge' 'no edge' 'no edge'\n",
      " 'no edge' 'no edge' 'no edge' 'no edge' 'no edge' 'no edge' 'no edge'\n",
      " 'no edge']\n",
      "['no edge' 'no edge' 'no edge' 'no edge' 'no edge' 'no edge' 'no edge'\n",
      " 'no edge' 'no edge' 'no edge' 'no edge' 'no edge' 'no edge' 'no edge'\n",
      " 'no edge' 'no edge' 'other-d2p' 'no edge' 'no edge' 'no edge' 'no edge']\n",
      "['no edge' 'no edge' 'no edge' 'no edge' 'no edge' 'no edge' 'no edge'\n",
      " 'no edge' 'no edge' 'no edge' 'no edge' 'no edge' 'no edge' 'no edge'\n",
      " 'no edge' 'no edge' 'determiner-d2p' 'no edge' 'no edge' 'no edge'\n",
      " 'no edge']\n",
      "['no edge' 'no edge' 'no edge' 'no edge' 'no edge' 'no edge' 'no edge'\n",
      " 'no edge' 'no edge' 'no edge' 'no edge' 'no edge' 'no edge'\n",
      " 'noun-modifier-d2p' 'no edge' 'no edge' 'no edge' 'no edge' 'no edge'\n",
      " 'no edge' 'no edge']\n",
      "['no edge' 'no edge' 'no edge' 'no edge' 'no edge' 'i object-d2p'\n",
      " 'no edge' 'no edge' 'no edge' 'no edge' 'no edge' 'no edge' 'no edge'\n",
      " 'no edge' 'no edge' 'no edge' 'no edge' 'no edge' 'no edge' 'no edge'\n",
      " 'no edge']\n",
      "['no edge' 'no edge' 'no edge' 'no edge' 'no edge' 'clausal-d2p' 'no edge'\n",
      " 'no edge' 'no edge' 'no edge' 'no edge' 'no edge' 'no edge' 'no edge'\n",
      " 'no edge' 'no edge' 'no edge' 'no edge' 'no edge' 'no edge' 'no edge']\n",
      "['no edge' 'no edge' 'no edge' 'no edge' 'no edge' 'no edge' 'no edge'\n",
      " 'no edge' 'no edge' 'no edge' 'no edge' 'no edge' 'no edge' 'no edge'\n",
      " 'no edge' 'no edge' 'other-d2p' 'no edge' 'no edge' 'no edge' 'no edge']\n",
      "['no edge' 'no edge' 'no edge' 'no edge' 'no edge' 'punctuation-d2p'\n",
      " 'no edge' 'no edge' 'no edge' 'no edge' 'no edge' 'no edge' 'no edge'\n",
      " 'no edge' 'no edge' 'no edge' 'no edge' 'no edge' 'no edge' 'no edge'\n",
      " 'no edge']\n"
     ]
    }
   ],
   "source": [
    "for col in pred.transpose():\n",
    "    print(col)"
   ]
  },
  {
   "cell_type": "code",
   "execution_count": 20,
   "metadata": {},
   "outputs": [
    {
     "data": {
      "text/plain": [
       "array([0, 1, 0, 0, 0, 8, 0, 0, 4, 0, 0, 2, 0, 2, 0, 0, 3, 0, 0, 0, 0])"
      ]
     },
     "execution_count": 20,
     "metadata": {},
     "output_type": "execute_result"
    }
   ],
   "source": [
    "np.sum(pred != 'no edge', axis=1)"
   ]
  },
  {
   "cell_type": "code",
   "execution_count": 21,
   "metadata": {},
   "outputs": [
    {
     "data": {
      "text/plain": [
       "array([0, 1, 0, 0, 0, 7, 0, 0, 3, 0, 0, 4, 0, 1, 0, 0, 2, 0, 2, 0, 0])"
      ]
     },
     "execution_count": 21,
     "metadata": {},
     "output_type": "execute_result"
    }
   ],
   "source": [
    "np.sum(gold != 'no edge', axis=1)"
   ]
  },
  {
   "cell_type": "code",
   "execution_count": 22,
   "metadata": {},
   "outputs": [
    {
     "data": {
      "text/plain": [
       "array([1, 1, 1, 1, 1, 0, 1, 1, 1, 1, 1, 1, 1, 1, 1, 1, 1, 1, 1, 1, 1])"
      ]
     },
     "execution_count": 22,
     "metadata": {},
     "output_type": "execute_result"
    }
   ],
   "source": [
    "np.sum(gold != 'no edge', axis=0)"
   ]
  },
  {
   "cell_type": "code",
   "execution_count": 23,
   "metadata": {},
   "outputs": [
    {
     "name": "stdout",
     "output_type": "stream",
     "text": [
      "          other objec i obj claus conju adj-c punct deter subje adv-m no ed noun- auxil \n",
      "    other   4.0   0.0   0.0   0.0   0.0   0.0   0.0   0.0   0.0   1.0   1.0   0.0   0.0 \n",
      "    objec   1.0   0.0   0.0   0.0   0.0   0.0   0.0   0.0   0.0   0.0   0.0   0.0   0.0 \n",
      "    i obj   0.0   0.0   0.0   0.0   0.0   0.0   0.0   0.0   0.0   0.0   1.0   0.0   0.0 \n",
      "    claus   1.0   0.0   0.0   0.0   0.0   0.0   0.0   0.0   0.0   0.0   0.0   0.0   0.0 \n",
      "    conju   0.0   0.0   0.0   0.0   0.0   0.0   0.0   0.0   0.0   0.0   0.0   0.0   0.0 \n",
      "    adj-c   1.0   0.0   0.0   0.0   0.0   0.0   0.0   0.0   0.0   0.0   0.0   0.0   0.0 \n",
      "    punct   0.0   0.0   0.0   0.0   0.0   0.0   1.0   0.0   0.0   0.0   0.0   0.0   0.0 \n",
      "    deter   0.0   0.0   0.0   0.0   0.0   0.0   0.0   4.0   0.0   0.0   0.0   0.0   0.0 \n",
      "    subje   0.0   0.0   0.0   0.0   0.0   0.0   0.0   0.0   0.0   0.0   0.0   0.0   0.0 \n",
      "    adv-m   0.0   0.0   0.0   0.0   0.0   0.0   0.0   0.0   0.0   0.0   0.0   0.0   0.0 \n",
      "    no ed   1.0   0.0   0.0   0.0   1.0   0.0   0.0   0.0   1.0   0.0 417.0   1.0   0.0 \n",
      "    noun-   0.0   0.0   0.0   0.0   0.0   0.0   0.0   0.0   0.0   0.0   2.0   1.0   0.0 \n",
      "    auxil   1.0   0.0   0.0   0.0   0.0   0.0   0.0   0.0   0.0   0.0   0.0   0.0   1.0 \n"
     ]
    }
   ],
   "source": [
    "cmlabs = list(set(pred.ravel()).union(set(gold.ravel())))\n",
    "# cmlabs.remove('no edge')\n",
    "print_cm(confusion_matrix(pred.ravel(),gold.ravel(),cmlabs), cmlabs)\n"
   ]
  },
  {
   "cell_type": "markdown",
   "metadata": {},
   "source": [
    "## UDAPI"
   ]
  },
  {
   "cell_type": "code",
   "execution_count": 26,
   "metadata": {},
   "outputs": [],
   "source": [
    "from udapi.core.document import Document\n",
    "from udapi.block.read.conllu import Conllu\n",
    "from udapi.core.node import Node\n",
    "\n",
    "from copy import copy"
   ]
  },
  {
   "cell_type": "code",
   "execution_count": 27,
   "metadata": {},
   "outputs": [],
   "source": [
    "reverse_label_map = {value: key for key, value in dependency.label_map.items()}\n",
    "reverse_label_map['other'] = 'dep'"
   ]
  },
  {
   "cell_type": "code",
   "execution_count": 28,
   "metadata": {},
   "outputs": [],
   "source": [
    "doc = Document()\n",
    "doc.load_conllu(conllu_file_name)\n"
   ]
  },
  {
   "cell_type": "code",
   "execution_count": 29,
   "metadata": {},
   "outputs": [],
   "source": [
    "bund =  doc.bundles[0]"
   ]
  },
  {
   "cell_type": "code",
   "execution_count": 30,
   "metadata": {},
   "outputs": [],
   "source": [
    "roo = bund.get_tree()"
   ]
  },
  {
   "cell_type": "code",
   "execution_count": 31,
   "metadata": {},
   "outputs": [],
   "source": [
    "roo.zone = 'silver'"
   ]
  },
  {
   "cell_type": "code",
   "execution_count": 32,
   "metadata": {},
   "outputs": [
    {
     "data": {
      "text/plain": [
       "<udapi.core.root.Root at 0x7f0c7814b958>"
      ]
     },
     "execution_count": 32,
     "metadata": {},
     "output_type": "execute_result"
    }
   ],
   "source": [
    "bund.get_tree('silver')"
   ]
  },
  {
   "cell_type": "code",
   "execution_count": 91,
   "metadata": {},
   "outputs": [],
   "source": [
    "def rewrite_conllu(conllu_file, conllu_out_file, predictions=True):\n",
    "    CONLLU_ID = 0\n",
    "    CONLLU_LABEL = 7\n",
    "    CONLLU_HEAD = 6\n",
    "    CONLLU_POS = 3\n",
    "    relations_labeled = []\n",
    "    sentence_rel = []\n",
    "    out_lines = []\n",
    "    with open(conllu_file, 'r') as in_conllu:\n",
    "        sentid = 0\n",
    "        pred, gold = multigraph_aborescene(sentid, visualize=False)\n",
    "        for line in in_conllu:\n",
    "            if sentid > 30:\n",
    "                break\n",
    "            if line == '\\n':\n",
    "                out_lines.append(line.strip())\n",
    "                sentid += 1\n",
    "                pred, gold = multigraph_aborescene(sentid, visualize=False)\n",
    "            elif line.startswith('#'):\n",
    "                if line.startswith('# sent_id'):\n",
    "                    if predictions:\n",
    "                        out_lines.append(line.strip() + '/pred')\n",
    "                    else:\n",
    "                        out_lines.append(line.strip() + '/gold')\n",
    "                out_lines.append(line.strip())\n",
    "            else:\n",
    "                fields = line.strip().split('\\t')\n",
    "                if fields[CONLLU_ID].isdigit():\n",
    "                    if fields[CONLLU_LABEL].strip() != 'root':\n",
    "                        if predictions:\n",
    "                            col = pred.transpose()[int(fields[CONLLU_ID])-1]\n",
    "                        else:\n",
    "                            col = gold.transpose()[int(fields[CONLLU_ID])-1]\n",
    "                        x  = np.argwhere(col!='no edge')\n",
    "                        x = x.item()\n",
    "                        lab = reverse_label_map[col[x][:-4]]\n",
    "                        \n",
    "                        fields[CONLLU_HEAD] = str(x+1)\n",
    "                        fields[CONLLU_LABEL] = lab\n",
    "                        \n",
    "                out_lines.append('\\t'.join(fields))\n",
    "                \n",
    "    with open(conllu_out_file, 'w') as out_conllu:\n",
    "        out_conllu.write('\\n'.join(out_lines))\n"
   ]
  },
  {
   "cell_type": "code",
   "execution_count": 92,
   "metadata": {},
   "outputs": [],
   "source": [
    "rewrite_conllu(conllu_file_name,'../graph-extraction/endev-outp.conllu', predictions=True)"
   ]
  },
  {
   "cell_type": "code",
   "execution_count": 93,
   "metadata": {},
   "outputs": [],
   "source": [
    "rewrite_conllu(conllu_file_name,'../graph-extraction/endev-outg.conllu', predictions=False)"
   ]
  },
  {
   "cell_type": "code",
   "execution_count": 33,
   "metadata": {},
   "outputs": [
    {
     "name": "stderr",
     "output_type": "stream",
     "text": [
      "0it [00:06, ?it/s]"
     ]
    },
    {
     "name": "stdout",
     "output_type": "stream",
     "text": [
      "47\n",
      "[[1]]\n",
      "[]\n"
     ]
    },
    {
     "name": "stderr",
     "output_type": "stream",
     "text": [
      "\n"
     ]
    },
    {
     "ename": "ValueError",
     "evalue": "can only convert an array of size 1 to a Python scalar",
     "output_type": "error",
     "traceback": [
      "\u001b[0;31m---------------------------------------------------------------------------\u001b[0m",
      "\u001b[0;31mValueError\u001b[0m                                Traceback (most recent call last)",
      "\u001b[0;32m<ipython-input-33-999c987c3d42>\u001b[0m in \u001b[0;36m<module>\u001b[0;34m\u001b[0m\n\u001b[1;32m     32\u001b[0m             \u001b[0mx\u001b[0m  \u001b[0;34m=\u001b[0m \u001b[0mnp\u001b[0m\u001b[0;34m.\u001b[0m\u001b[0margwhere\u001b[0m\u001b[0;34m(\u001b[0m\u001b[0mcol\u001b[0m\u001b[0;34m!=\u001b[0m\u001b[0;34m'no edge'\u001b[0m\u001b[0;34m)\u001b[0m\u001b[0;34m\u001b[0m\u001b[0;34m\u001b[0m\u001b[0m\n\u001b[1;32m     33\u001b[0m             \u001b[0mprint\u001b[0m\u001b[0;34m(\u001b[0m\u001b[0mx\u001b[0m\u001b[0;34m)\u001b[0m\u001b[0;34m\u001b[0m\u001b[0;34m\u001b[0m\u001b[0m\n\u001b[0;32m---> 34\u001b[0;31m             \u001b[0mx\u001b[0m \u001b[0;34m=\u001b[0m \u001b[0mx\u001b[0m\u001b[0;34m.\u001b[0m\u001b[0mitem\u001b[0m\u001b[0;34m(\u001b[0m\u001b[0;34m)\u001b[0m\u001b[0;34m\u001b[0m\u001b[0;34m\u001b[0m\u001b[0m\n\u001b[0m\u001b[1;32m     35\u001b[0m             \u001b[0mlab\u001b[0m \u001b[0;34m=\u001b[0m \u001b[0mreverse_label_map\u001b[0m\u001b[0;34m[\u001b[0m\u001b[0mcol\u001b[0m\u001b[0;34m[\u001b[0m\u001b[0mx\u001b[0m\u001b[0;34m]\u001b[0m\u001b[0;34m[\u001b[0m\u001b[0;34m:\u001b[0m\u001b[0;34m-\u001b[0m\u001b[0;36m4\u001b[0m\u001b[0;34m]\u001b[0m\u001b[0;34m]\u001b[0m\u001b[0;34m\u001b[0m\u001b[0;34m\u001b[0m\u001b[0m\n\u001b[1;32m     36\u001b[0m \u001b[0;34m\u001b[0m\u001b[0m\n",
      "\u001b[0;31mValueError\u001b[0m: can only convert an array of size 1 to a Python scalar"
     ]
    }
   ],
   "source": [
    "doc = Document()\n",
    "doc.load_conllu(conllu_file_name)\n",
    "\n",
    "for idx, bund in tqdm(enumerate(doc.bundles)):\n",
    "    roo_s = bund.get_tree()\n",
    "    roo_s.zone = 'silver'\n",
    "    roo_p = bund.create_tree('prediction')\n",
    "    \n",
    "    roo_p.form = roo_s.form\n",
    "    roo_p.lemma = roo_s.lemma\n",
    "    roo_p.upos = roo_s.upos\n",
    "    roo_p.xpos = roo_s.xpos\n",
    "    roo_p._misc = copy(roo_s._misc)\n",
    "    roo_p._feats = copy(roo_s._feats)\n",
    "    \n",
    "    for node in roo_s.descendants():\n",
    "        if node.deprel != '<ROOT>':\n",
    "        new_node = Node(form=node.form, lemma=node.lemma, upos=node.upos,\n",
    "                         xpos=node.xpos,  deprel='dep')\n",
    "        new_node._misc = copy(node._misc)\n",
    "        new_node._feats = copy(node._feats)\n",
    "        new_node._parent = roo_p\n",
    "        roo_p._children.append(new_node)\n",
    "        roo_p._descendants.append(new_node)\n",
    "\n",
    "            \n",
    "    pred, _ =  multigraph_aborescene(idx)\n",
    "    nodes = roo_p.descendants()\n",
    "    print(len(nodes))\n",
    "    for node, col in zip(nodes, pred.transpose()):\n",
    "        if node.deprel != '<ROOT>':\n",
    "            x  = np.argwhere(col!='no edge')\n",
    "            print(x)\n",
    "            x = x.item()\n",
    "            lab = reverse_label_map[col[x][:-4]]\n",
    "            \n",
    "            node.parent = nodes[x]\n",
    "            node.deprel = lab\n",
    "            \n",
    "    print(roo_p.compute_text())"
   ]
  },
  {
   "cell_type": "code",
   "execution_count": 35,
   "metadata": {},
   "outputs": [
    {
     "data": {
      "text/plain": [
       "\"We talk about creating the world 's largest single market here , and we talk about making the EU the most competitive economy in the world , and we talk about the world competition , yet what do we do when it comes to tax competition ?\""
      ]
     },
     "execution_count": 35,
     "metadata": {},
     "output_type": "execute_result"
    }
   ],
   "source": [
    "roo_s.text"
   ]
  },
  {
   "cell_type": "code",
   "execution_count": null,
   "metadata": {},
   "outputs": [],
   "source": []
  },
  {
   "cell_type": "code",
   "execution_count": 36,
   "metadata": {},
   "outputs": [],
   "source": [
    "roo_p.text"
   ]
  },
  {
   "cell_type": "code",
   "execution_count": 42,
   "metadata": {},
   "outputs": [
    {
     "name": "stdout",
     "output_type": "stream",
     "text": [
      "<class 'udapi.core.node.Node'>\n",
      "<class 'udapi.core.node.Node'>\n",
      "<class 'udapi.core.node.Node'>\n",
      "<class 'udapi.core.node.Node'>\n",
      "<class 'udapi.core.node.Node'>\n",
      "<class 'udapi.core.node.Node'>\n",
      "<class 'udapi.core.node.Node'>\n",
      "<class 'udapi.core.node.Node'>\n",
      "<class 'udapi.core.node.Node'>\n",
      "<class 'udapi.core.node.Node'>\n",
      "<class 'udapi.core.node.Node'>\n",
      "<class 'udapi.core.node.Node'>\n",
      "<class 'udapi.core.node.Node'>\n",
      "<class 'udapi.core.node.Node'>\n",
      "<class 'udapi.core.node.Node'>\n",
      "<class 'udapi.core.node.Node'>\n",
      "<class 'udapi.core.node.Node'>\n",
      "<class 'udapi.core.node.Node'>\n",
      "<class 'udapi.core.node.Node'>\n",
      "<class 'udapi.core.node.Node'>\n",
      "<class 'udapi.core.node.Node'>\n",
      "<class 'udapi.core.node.Node'>\n",
      "<class 'udapi.core.node.Node'>\n",
      "<class 'udapi.core.node.Node'>\n",
      "<class 'udapi.core.node.Node'>\n",
      "<class 'udapi.core.node.Node'>\n",
      "<class 'udapi.core.node.Node'>\n",
      "<class 'udapi.core.node.Node'>\n",
      "<class 'udapi.core.node.Node'>\n",
      "<class 'udapi.core.node.Node'>\n",
      "<class 'udapi.core.node.Node'>\n",
      "<class 'udapi.core.node.Node'>\n",
      "<class 'udapi.core.node.Node'>\n",
      "<class 'udapi.core.node.Node'>\n",
      "<class 'udapi.core.node.Node'>\n",
      "<class 'udapi.core.node.Node'>\n",
      "<class 'udapi.core.node.Node'>\n",
      "<class 'udapi.core.node.Node'>\n",
      "<class 'udapi.core.node.Node'>\n",
      "<class 'udapi.core.node.Node'>\n",
      "<class 'udapi.core.node.Node'>\n",
      "<class 'udapi.core.node.Node'>\n",
      "<class 'udapi.core.node.Node'>\n",
      "<class 'udapi.core.node.Node'>\n",
      "<class 'udapi.core.node.Node'>\n",
      "<class 'udapi.core.node.Node'>\n",
      "<class 'udapi.core.node.Node'>\n"
     ]
    }
   ],
   "source": [
    "for node in roo_p._descendants:\n",
    "    print(type(node))"
   ]
  },
  {
   "cell_type": "code",
   "execution_count": 32,
   "metadata": {},
   "outputs": [],
   "source": [
    "doc.store_conllu('../graph-extraction/endev-out.conllu')"
   ]
  }
 ],
 "metadata": {
  "kernelspec": {
   "display_name": "Python 3",
   "language": "python",
   "name": "python3"
  },
  "language_info": {
   "codemirror_mode": {
    "name": "ipython",
    "version": 3
   },
   "file_extension": ".py",
   "mimetype": "text/x-python",
   "name": "python",
   "nbconvert_exporter": "python",
   "pygments_lexer": "ipython3",
   "version": "3.6.8"
  }
 },
 "nbformat": 4,
 "nbformat_minor": 2
}
